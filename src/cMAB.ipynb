{
 "cells": [
  {
   "attachments": {},
   "cell_type": "markdown",
   "metadata": {},
   "source": [
    "## **Contextual Multi Armed Bandit**\n",
    "\n",
    "**$N$**  - bandits (ads to show on a website)\\\n",
    "**$k$** - context, k type of customer visiting online store website\n",
    "\n",
    "**$M$** = $matrix_{kxN}$"
   ]
  },
  {
   "cell_type": "code",
   "execution_count": 1,
   "metadata": {},
   "outputs": [
    {
     "data": {
      "text/plain": [
       "<torch._C.Generator at 0x7f6b4c14e510>"
      ]
     },
     "execution_count": 1,
     "metadata": {},
     "output_type": "execute_result"
    }
   ],
   "source": [
    "import torch\n",
    "import numpy as np\n",
    "import matplotlib.pyplot as plt\n",
    "\n",
    "torch.manual_seed(3407)"
   ]
  },
  {
   "cell_type": "code",
   "execution_count": 3,
   "metadata": {},
   "outputs": [],
   "source": [
    "context_size = 5\n",
    "n_bandits = 10"
   ]
  },
  {
   "cell_type": "code",
   "execution_count": 4,
   "metadata": {},
   "outputs": [
    {
     "data": {
      "text/plain": [
       "tensor([[0.8823, 0.9150, 0.3829, 0.9593, 0.3904],\n",
       "        [0.6009, 0.2566, 0.7936, 0.9408, 0.1332],\n",
       "        [0.9346, 0.5936, 0.8694, 0.5677, 0.7411],\n",
       "        [0.4294, 0.8854, 0.5739, 0.2666, 0.6274],\n",
       "        [0.2696, 0.4414, 0.2969, 0.8317, 0.1053],\n",
       "        [0.2695, 0.3588, 0.1994, 0.5472, 0.0062],\n",
       "        [0.9516, 0.0753, 0.8860, 0.5832, 0.3376],\n",
       "        [0.8090, 0.5779, 0.9040, 0.5547, 0.3423],\n",
       "        [0.6343, 0.3644, 0.7104, 0.9464, 0.7890],\n",
       "        [0.2814, 0.7886, 0.5895, 0.7539, 0.1952]])"
      ]
     },
     "execution_count": 4,
     "metadata": {},
     "output_type": "execute_result"
    }
   ],
   "source": [
    "matrix = torch.rand(n_bandits, context_size)\n",
    "matrix"
   ]
  },
  {
   "cell_type": "code",
   "execution_count": 5,
   "metadata": {},
   "outputs": [
    {
     "data": {
      "text/plain": [
       "<torch._C.Generator at 0x7f03140b0530>"
      ]
     },
     "execution_count": 5,
     "metadata": {},
     "output_type": "execute_result"
    }
   ],
   "source": [
    "import torch\n",
    "import torch.nn as nn\n",
    "import torch.optim as optim\n",
    "import random\n",
    "torch.manual_seed(42)"
   ]
  },
  {
   "cell_type": "code",
   "execution_count": 14,
   "metadata": {},
   "outputs": [
    {
     "data": {
      "text/plain": [
       "tensor(6)"
      ]
     },
     "execution_count": 14,
     "metadata": {},
     "output_type": "execute_result"
    }
   ],
   "source": [
    "class DQN(nn.Module):\n",
    "    def __init__(self, num_arms, context_size):\n",
    "        super(DQN, self).__init__()\n",
    "        self.num_arms = num_arms\n",
    "        self.context_size = context_size\n",
    "        self.fc1 = nn.Linear(context_size, 64)\n",
    "        self.fc2 = nn.Linear(64, num_arms)\n",
    "\n",
    "    def forward(self, x):\n",
    "        x = torch.relu(self.fc1(x))\n",
    "        x = torch.softmax(self.fc2(x), dim=1)\n",
    "        return x\n",
    "\n",
    "model = DQN(num_arms=n_bandits, context_size=context_size)\n",
    "\n",
    "y_hat = model(torch.tensor([0, 0, 1, 0, 0], dtype=torch.float32).reshape(1, -1))\n",
    "torch.argmax(y_hat)"
   ]
  },
  {
   "cell_type": "code",
   "execution_count": null,
   "metadata": {},
   "outputs": [],
   "source": [
    "class Agent:\n",
    "    def __init__(self, num_arms, context_size, epsilon=0.1, learning_rate=0.01, gamma=0.99):\n",
    "        self.num_arms = num_arms\n",
    "        self.context_size = context_size\n",
    "        self.epsilon = epsilon\n",
    "        self.learning_rate = learning_rate\n",
    "        self.gamma = gamma\n",
    "        self.device = torch.device(\"cuda\" if torch.cuda.is_available() else \"cpu\")\n",
    "\n",
    "        # Initialize Q-network\n",
    "        self.q_network = DQN(num_arms, context_size).to(self.device)\n",
    "        self.optimizer = optim.Adam(self.q_network.parameters(), lr=learning_rate)\n",
    "\n",
    "    def select_action(self, context, rewards):\n",
    "        input_tensor = torch.cat((torch.tensor(rewards), torch.tensor(context)), dim=0).float().to(self.device)\n",
    "        if random.random() < self.epsilon:\n",
    "            # Explore: Select a random action\n",
    "            action = random.randint(0, self.num_arms - 1)\n",
    "        else:\n",
    "            # Exploit: Select action with highest Q-value\n",
    "            with torch.no_grad():\n",
    "                q_values = self.q_network(input_tensor)\n",
    "                action = torch.argmax(q_values).item()\n",
    "\n",
    "        return action\n",
    "\n",
    "    def update_network(self, context, rewards, action, next_rewards):\n",
    "        input_tensor = torch.cat((torch.tensor(rewards), torch.tensor(context)), dim=0).float().to(self.device)\n",
    "        next_input_tensor = torch.cat((torch.tensor(next_rewards), torch.tensor(context)), dim=0).float().to(self.device)\n",
    "\n",
    "        q_values = self.q_network(input_tensor)\n",
    "        next_q_values = self.q_network(next_input_tensor)\n",
    "\n",
    "        # Compute target Q-value using the Bellman equation\n",
    "        target_q = rewards[action] + self.gamma * torch.max(next_q_values).item()\n",
    "        q_values[action] = target_q\n",
    "\n",
    "        # Update the Q-network using backpropagation\n",
    "        loss = nn.MSELoss()(q_values, self.q_network(input_tensor))\n",
    "        self.optimizer.zero_grad()\n",
    "        loss.backward()\n",
    "        self.optimizer.step()\n",
    "\n",
    "    def train(self, episodes):\n",
    "        for episode in range(episodes):\n",
    "            context = self.get_context()  # Determine the context for this episode\n",
    "            rewards = [0] * self.num_arms  # Initialize rewards for each arm\n",
    "            action = self.select_action(context, rewards)  # Select action based on epsilon-greedy policy\n",
    "\n",
    "            # Simulate pulling the selected arm and observe the reward\n",
    "            reward = self.pull_arm(action, context)\n",
    "            rewards[action] = reward\n",
    "\n",
    "            # Update the Q-network based on the observed reward\n",
    "            self.update_network(context, rewards, action, rewards)"
   ]
  }
 ],
 "metadata": {
  "kernelspec": {
   "display_name": "rl-venv",
   "language": "python",
   "name": "python3"
  },
  "language_info": {
   "codemirror_mode": {
    "name": "ipython",
    "version": 3
   },
   "file_extension": ".py",
   "mimetype": "text/x-python",
   "name": "python",
   "nbconvert_exporter": "python",
   "pygments_lexer": "ipython3",
   "version": "3.10.6"
  },
  "orig_nbformat": 4,
  "vscode": {
   "interpreter": {
    "hash": "80ef7f58173502424595262155cdc923de19cced9a7f769ab50f2a5925bec3d8"
   }
  }
 },
 "nbformat": 4,
 "nbformat_minor": 2
}
