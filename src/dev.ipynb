{
 "cells": [
  {
   "attachments": {},
   "cell_type": "markdown",
   "metadata": {},
   "source": [
    "## **Multi-armed bandit problem**\n",
    "\n",
    "### Reinforcement learning\n",
    "\n",
    "**MDP** - Markov Decision Processes\n",
    "\n",
    "$\\;s_t$ - current state\\\n",
    "$\\;o_t$  - obesrvation made in $s_t$\\\n",
    "$\\;a_t$ - decision made from state $s_t$\n",
    "\n",
    "$\\quad a_t \\in \\{0, 1, 2, ..., n\\}$, where\\\n",
    "$\\quad \\quad n $= number of machines\n"
   ]
  },
  {
   "cell_type": "code",
   "execution_count": 9,
   "metadata": {},
   "outputs": [],
   "source": [
    "import torch\n",
    "import torch.nn as nn\n",
    "import torch.nn.functional as F\n",
    "import sys\n",
    "\n",
    "import numpy as np\n",
    "import random\n",
    "\n",
    "from collections import namedtuple, deque"
   ]
  },
  {
   "cell_type": "code",
   "execution_count": 10,
   "metadata": {},
   "outputs": [],
   "source": [
    "sys.path.append('..')"
   ]
  },
  {
   "cell_type": "code",
   "execution_count": 2,
   "metadata": {},
   "outputs": [
    {
     "data": {
      "text/plain": [
       "device(type='cpu')"
      ]
     },
     "execution_count": 2,
     "metadata": {},
     "output_type": "execute_result"
    }
   ],
   "source": [
    "device = torch.device(\"cuda\" if torch.cuda.is_available() else \"cpu\")\n",
    "device"
   ]
  },
  {
   "cell_type": "code",
   "execution_count": 3,
   "metadata": {},
   "outputs": [],
   "source": [
    "Transition = namedtuple('Transition',\n",
    "                        ('state', 'action', 'next_state', 'reward'))\n",
    "\n",
    "\n",
    "class ReplayMemory(object):\n",
    "\n",
    "    def __init__(self, capacity):\n",
    "        self.memory = deque([], maxlen=capacity)\n",
    "\n",
    "    def push(self, *args):\n",
    "        \"\"\"Save a transition\"\"\"\n",
    "        self.memory.append(Transition(*args))\n",
    "\n",
    "    def sample(self, batch_size):\n",
    "        return random.sample(self.memory, batch_size)\n",
    "\n",
    "    def __len__(self):\n",
    "        return len(self.memory)"
   ]
  },
  {
   "cell_type": "code",
   "execution_count": 4,
   "metadata": {},
   "outputs": [],
   "source": [
    "class DQN(nn.Module):\n",
    "\n",
    "    def __init__(self, n_observations, n_actions) -> None:\n",
    "        super(DQN, self).__init__()\n",
    "        self.layer1 = nn.Linear(n_observations, 128)\n",
    "        self.layer2 = nn.Linear(128, 128)\n",
    "        self.layer3 = nn.Linear(128, n_actions)\n",
    "\n",
    "\n",
    "    def forward(self, x):\n",
    "        x = F.relu(self.layer1(x))\n",
    "        x = F.relu(self.layer2(x))\n",
    "        x = F.softmax(self.layer3(x), dim=0)\n",
    "        return x"
   ]
  },
  {
   "cell_type": "code",
   "execution_count": 5,
   "metadata": {},
   "outputs": [
    {
     "data": {
      "text/plain": [
       "tensor([0.1712, 0.1524, 0.1656, 0.1465, 0.1743, 0.1901],\n",
       "       grad_fn=<SoftmaxBackward0>)"
      ]
     },
     "execution_count": 5,
     "metadata": {},
     "output_type": "execute_result"
    }
   ],
   "source": [
    "n_bandits = 6\n",
    "model = DQN(1, n_bandits).to(device)\n",
    "\n",
    "model(torch.tensor([1.0]))"
   ]
  },
  {
   "cell_type": "code",
   "execution_count": 6,
   "metadata": {},
   "outputs": [],
   "source": [
    "# BATCH_SIZE is the number of transitions sampled from the replay buffer\n",
    "# GAMMA is the discount factor as mentioned in the previous section\n",
    "# EPS_START is the starting value of epsilon\n",
    "# EPS_END is the final value of epsilon\n",
    "# EPS_DECAY controls the rate of exponential decay of epsilon, higher means a slower decay\n",
    "# TAU is the update rate of the target network\n",
    "# LR is the learning rate of the AdamW optimizer\n",
    "BATCH_SIZE = 128\n",
    "GAMMA = 0.99\n",
    "EPS_START = 0.9\n",
    "EPS_END = 0.05\n",
    "EPS_DECAY = 1000\n",
    "TAU = 0.005\n",
    "LR = 1e-4\n",
    "\n",
    "n_obersevations = 1\n",
    "n_actions = n_bandits"
   ]
  },
  {
   "cell_type": "code",
   "execution_count": 7,
   "metadata": {},
   "outputs": [],
   "source": [
    "model = DQN(n_obersevations, n_actions)\n",
    "\n",
    "optimizer = torch.optim.AdamW(model.parameters(), lr=LR, amsgrad=True)\n",
    "# memory = ReplayMemory(10000)\n",
    "\n",
    "steps_done = 0\n",
    "\n",
    "def select_action(state):\n",
    "    global steps_done\n",
    "    sample = random.random()\n",
    "    eps_threshold = EPS_END + (EPS_START - EPS_END) * \\\n",
    "        np.exp(-1. * steps_done / EPS_DECAY)\n",
    "    steps_done += 1\n",
    "    if sample > eps_threshold:\n",
    "        with torch.no_grad():\n",
    "            return F.one_hot(torch.argmax(model(state)), n_actions)\n",
    "    else:\n",
    "        return F.one_hot(torch.randint(0, n_actions, (1,)), n_actions)"
   ]
  },
  {
   "cell_type": "code",
   "execution_count": 10,
   "metadata": {},
   "outputs": [
    {
     "data": {
      "text/plain": [
       "tensor([0, 1, 0, 0, 0, 0])"
      ]
     },
     "execution_count": 10,
     "metadata": {},
     "output_type": "execute_result"
    }
   ],
   "source": [
    "select_action(torch.tensor([1.0]))"
   ]
  },
  {
   "attachments": {},
   "cell_type": "markdown",
   "metadata": {},
   "source": [
    "### **Q-learning algorthitm**"
   ]
  },
  {
   "cell_type": "code",
   "execution_count": 76,
   "metadata": {},
   "outputs": [],
   "source": [
    "from src.bandit import Bandit\n",
    "\n",
    "bandits_probs = np.random.randint(20, 100, n_bandits) / 100\n",
    "\n",
    "env = Bandit(bandits_probs)"
   ]
  },
  {
   "cell_type": "code",
   "execution_count": 110,
   "metadata": {},
   "outputs": [
    {
     "data": {
      "text/plain": [
       "(20, 1)"
      ]
     },
     "execution_count": 110,
     "metadata": {},
     "output_type": "execute_result"
    }
   ],
   "source": [
    "iterations = 2500\n",
    "episode_iterations = 300\n",
    "n_bandits = 20\n",
    "exploration_prob = 1  # initial exploration probability\n",
    "exploration_decay = 0.001\n",
    "min_exploration_prob = 0.01\n",
    "gamma = 0.99  # discount factor\n",
    "lr = 0.1\n",
    "\n",
    "q_table = np.zeros((n_bandits, 1))\n",
    "\n",
    "q_table.shape"
   ]
  },
  {
   "cell_type": "code",
   "execution_count": 111,
   "metadata": {},
   "outputs": [],
   "source": [
    "total_rewards = []"
   ]
  },
  {
   "cell_type": "code",
   "execution_count": 112,
   "metadata": {},
   "outputs": [
    {
     "name": "stderr",
     "output_type": "stream",
     "text": [
      "/tmp/ipykernel_28370/2058361475.py:17: RuntimeWarning: overflow encountered in add\n",
      "  q_table[action] += q_table_update_value(q_table, action, reward)\n",
      "/tmp/ipykernel_28370/2058361475.py:2: RuntimeWarning: invalid value encountered in add\n",
      "  return q_table[action] + lr * (reward - q_table[action])\n"
     ]
    }
   ],
   "source": [
    "def q_table_update_value(q_table, action, reward):\n",
    "    return q_table[action] + lr * (reward - q_table[action])\n",
    "\n",
    "for n in range(iterations):\n",
    "    action = np.random.randint(n_bandits)\n",
    "\n",
    "    total_episode_reward = 0\n",
    "\n",
    "    for i in range(episode_iterations):\n",
    "        \n",
    "        if np.random.uniform(0, 1) < exploration_prob:\n",
    "            action = np.random.randint(n_bandits)\n",
    "        else:\n",
    "            action = np.argmax(q_table)\n",
    "\n",
    "        reward = env.pull(action)\n",
    "        q_table[action] += q_table_update_value(q_table, action, reward)\n",
    "        total_episode_reward += reward\n",
    "\n",
    "    \n",
    "    exploration_prob = max(min_exploration_prob, np.exp(-exploration_decay*n))\n",
    "    total_rewards.append(total_episode_reward)"
   ]
  },
  {
   "cell_type": "code",
   "execution_count": 113,
   "metadata": {},
   "outputs": [
    {
     "data": {
      "text/plain": [
       "17"
      ]
     },
     "execution_count": 113,
     "metadata": {},
     "output_type": "execute_result"
    }
   ],
   "source": [
    "np.argmax(bandits_probs)"
   ]
  },
  {
   "cell_type": "code",
   "execution_count": 114,
   "metadata": {},
   "outputs": [
    {
     "data": {
      "text/plain": [
       "Text(0.5, 1.0, 'Total Reward vs Episode \\n           number of bandits = 20, num of episodes = 300')"
      ]
     },
     "execution_count": 114,
     "metadata": {},
     "output_type": "execute_result"
    },
    {
     "data": {
      "image/png": "[encoded data removed]",
      "text/plain": [
       "<Figure size 640x480 with 1 Axes>"
      ]
     },
     "metadata": {},
     "output_type": "display_data"
    }
   ],
   "source": [
    "import matplotlib.pyplot as plt\n",
    "plt.scatter(y=total_rewards, x=range(len(total_rewards)))\n",
    "plt.xlabel('Episode')\n",
    "plt.ylabel('Total Reward')\n",
    "plt.title(f'Total Reward vs Episode \\n\\\n",
    "           number of bandits = 20, num of episodes = {episode_iterations}')"
   ]
  },
  {
   "cell_type": "code",
   "execution_count": 115,
   "metadata": {},
   "outputs": [
    {
     "name": "stdout",
     "output_type": "stream",
     "text": [
      "Mean reward per thousand episodes\n",
      "100 : mean espiode reward:  191.96\n",
      "200 : mean espiode reward:  201.81\n",
      "300 : mean espiode reward:  204.99\n",
      "400 : mean espiode reward:  210.37\n",
      "500 : mean espiode reward:  214.6\n",
      "600 : mean espiode reward:  218.36\n",
      "700 : mean espiode reward:  221.75\n",
      "800 : mean espiode reward:  222.15\n",
      "900 : mean espiode reward:  225.7\n",
      "1000 : mean espiode reward:  228.75\n",
      "1100 : mean espiode reward:  231.72\n",
      "1200 : mean espiode reward:  234.39\n",
      "1300 : mean espiode reward:  234.61\n",
      "1400 : mean espiode reward:  236.34\n",
      "1500 : mean espiode reward:  238.64\n",
      "1600 : mean espiode reward:  239.14\n",
      "1700 : mean espiode reward:  240.27\n",
      "1800 : mean espiode reward:  241.79\n",
      "1900 : mean espiode reward:  243.37\n",
      "2000 : mean espiode reward:  245.2\n",
      "2100 : mean espiode reward:  244.24\n",
      "2200 : mean espiode reward:  245.04\n",
      "2300 : mean espiode reward:  245.52\n",
      "2400 : mean espiode reward:  246.66\n",
      "2500 : mean espiode reward:  246.59\n"
     ]
    }
   ],
   "source": [
    "summary_seed = 100\n",
    "print(\"Mean reward per thousand episodes\")\n",
    "for i in range(iterations // summary_seed):\n",
    "    print((i+1)*summary_seed,\": mean espiode reward: \",\\\n",
    "           np.mean(total_rewards[summary_seed*i:summary_seed*(i+1)]))"
   ]
  },
  {
   "cell_type": "code",
   "execution_count": 120,
   "metadata": {},
   "outputs": [
    {
     "data": {
      "text/plain": [
       "Text(0, 0.5, 'Mean Reward')"
      ]
     },
     "execution_count": 120,
     "metadata": {},
     "output_type": "execute_result"
    },
    {
     "data": {
      "image/png": "[encoded data removed]",
      "text/plain": [
       "<Figure size 640x480 with 1 Axes>"
      ]
     },
     "metadata": {},
     "output_type": "display_data"
    }
   ],
   "source": [
    "summed_up_rewards = [np.mean(total_rewards[summary_seed*i:summary_seed*(i+1)])\\\n",
    "                      for i in range(iterations // summary_seed)]\n",
    "plt.scatter(y=summed_up_rewards, x=range(len(summed_up_rewards)))\n",
    "plt.title(f'Mean reward per {summary_seed} episodes')\n",
    "plt.xlabel('Episode Group')\n",
    "plt.ylabel('Mean Reward')"
   ]
  }
 ],
 "metadata": {
  "kernelspec": {
   "display_name": "rl-venv",
   "language": "python",
   "name": "python3"
  },
  "language_info": {
   "codemirror_mode": {
    "name": "ipython",
    "version": 3
   },
   "file_extension": ".py",
   "mimetype": "text/x-python",
   "name": "python",
   "nbconvert_exporter": "python",
   "pygments_lexer": "ipython3",
   "version": "3.10.6"
  },
  "orig_nbformat": 4,
  "vscode": {
   "interpreter": {
    "hash": "80ef7f58173502424595262155cdc923de19cced9a7f769ab50f2a5925bec3d8"
   }
  }
 },
 "nbformat": 4,
 "nbformat_minor": 2
}
