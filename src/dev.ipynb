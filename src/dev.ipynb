{
 "cells": [
  {
   "attachments": {},
   "cell_type": "markdown",
   "metadata": {},
   "source": [
    "## **Multi-armed bandit problem**\n",
    "\n",
    "### Reinforcement learning\n",
    "\n",
    "**MDP** - Markov Decision Processes\n",
    "\n",
    "$\\;s_t$ - current state\\\n",
    "$\\;o_t$  - obesrvation made in $s_t$\\\n",
    "$\\;a_t$ - decision made from state $s_t$\n",
    "\n",
    "$\\quad a_t \\in \\{-1, 0, 1\\}$, where\\\n",
    "$\\quad \\quad a_t = -1$ -> move left\\\n",
    "$\\quad \\quad a_t = 0$ -> stay\\\n",
    "$\\quad \\quad a_t = 1$ -> move right\n"
   ]
  },
  {
   "cell_type": "code",
   "execution_count": 1,
   "metadata": {},
   "outputs": [
    {
     "name": "stderr",
     "output_type": "stream",
     "text": [
      "/home/stefan/.local/lib/python3.10/site-packages/tqdm/auto.py:22: TqdmWarning: IProgress not found. Please update jupyter and ipywidgets. See https://ipywidgets.readthedocs.io/en/stable/user_install.html\n",
      "  from .autonotebook import tqdm as notebook_tqdm\n"
     ]
    }
   ],
   "source": [
    "import torch\n",
    "import torch.nn as nn"
   ]
  }
 ],
 "metadata": {
  "kernelspec": {
   "display_name": "Python 3",
   "language": "python",
   "name": "python3"
  },
  "language_info": {
   "codemirror_mode": {
    "name": "ipython",
    "version": 3
   },
   "file_extension": ".py",
   "mimetype": "text/x-python",
   "name": "python",
   "nbconvert_exporter": "python",
   "pygments_lexer": "ipython3",
   "version": "3.10.6"
  },
  "orig_nbformat": 4,
  "vscode": {
   "interpreter": {
    "hash": "916dbcbb3f70747c44a77c7bcd40155683ae19c65e1c03b4aa3499c5328201f1"
   }
  }
 },
 "nbformat": 4,
 "nbformat_minor": 2
}
